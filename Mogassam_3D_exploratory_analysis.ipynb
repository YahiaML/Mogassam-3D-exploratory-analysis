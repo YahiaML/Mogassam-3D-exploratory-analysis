{
  "nbformat": 4,
  "nbformat_minor": 0,
  "metadata": {
    "colab": {
      "name": "Mogassam 3D exploratory analysis.ipynb",
      "provenance": [],
      "collapsed_sections": [],
      "authorship_tag": "ABX9TyO0hQQ72TTfMgdPapC7BasS",
      "include_colab_link": true
    },
    "kernelspec": {
      "name": "python3",
      "display_name": "Python 3"
    },
    "language_info": {
      "name": "python"
    }
  },
  "cells": [
    {
      "cell_type": "markdown",
      "metadata": {
        "id": "view-in-github",
        "colab_type": "text"
      },
      "source": [
        "<a href=\"https://colab.research.google.com/github/YahiaML/Mogassam-3D-exploratory-analysis/blob/main/Mogassam_3D_exploratory_analysis.ipynb\" target=\"_parent\"><img src=\"https://colab.research.google.com/assets/colab-badge.svg\" alt=\"Open In Colab\"/></a>"
      ]
    },
    {
      "cell_type": "code",
      "execution_count": 39,
      "metadata": {
        "id": "bzXp4k14WTN5"
      },
      "outputs": [],
      "source": [
        "import pandas as pd"
      ]
    },
    {
      "cell_type": "code",
      "source": [
        "df =pd.read_excel(\"/content/Coordinates.xlsx\")"
      ],
      "metadata": {
        "id": "UEZYxI5QW6Mv"
      },
      "execution_count": 40,
      "outputs": []
    },
    {
      "cell_type": "code",
      "source": [
        "df.head()"
      ],
      "metadata": {
        "colab": {
          "base_uri": "https://localhost:8080/",
          "height": 206
        },
        "id": "bmDQITP2XByj",
        "outputId": "5ecb2b17-e0ce-4bda-d5d0-19539c68b62c"
      },
      "execution_count": 41,
      "outputs": [
        {
          "output_type": "execute_result",
          "data": {
            "text/plain": [
              "       Type  File_Number  X-axis  Y-axis  Z-axis  In_Normal_Case Error_range  \\\n",
              "0  Bridge 2            2      12      -1       0            True      Normal   \n",
              "1  Bridge 2            3     -38     -13       4           False      Mediam   \n",
              "2  Bridge 2            4     -18       6      -1            True      Normal   \n",
              "3  Bridge 2            5     -69     -12       8           False        High   \n",
              "4  Bridge 2            6      20     -33      -6           False      Mediam   \n",
              "\n",
              "  Notes  \n",
              "0   NAN  \n",
              "1   NAN  \n",
              "2   NAN  \n",
              "3   NAN  \n",
              "4   NAN  "
            ],
            "text/html": [
              "\n",
              "  <div id=\"df-b76859de-0c2f-4cfb-b762-bb5107de7fc3\">\n",
              "    <div class=\"colab-df-container\">\n",
              "      <div>\n",
              "<style scoped>\n",
              "    .dataframe tbody tr th:only-of-type {\n",
              "        vertical-align: middle;\n",
              "    }\n",
              "\n",
              "    .dataframe tbody tr th {\n",
              "        vertical-align: top;\n",
              "    }\n",
              "\n",
              "    .dataframe thead th {\n",
              "        text-align: right;\n",
              "    }\n",
              "</style>\n",
              "<table border=\"1\" class=\"dataframe\">\n",
              "  <thead>\n",
              "    <tr style=\"text-align: right;\">\n",
              "      <th></th>\n",
              "      <th>Type</th>\n",
              "      <th>File_Number</th>\n",
              "      <th>X-axis</th>\n",
              "      <th>Y-axis</th>\n",
              "      <th>Z-axis</th>\n",
              "      <th>In_Normal_Case</th>\n",
              "      <th>Error_range</th>\n",
              "      <th>Notes</th>\n",
              "    </tr>\n",
              "  </thead>\n",
              "  <tbody>\n",
              "    <tr>\n",
              "      <th>0</th>\n",
              "      <td>Bridge 2</td>\n",
              "      <td>2</td>\n",
              "      <td>12</td>\n",
              "      <td>-1</td>\n",
              "      <td>0</td>\n",
              "      <td>True</td>\n",
              "      <td>Normal</td>\n",
              "      <td>NAN</td>\n",
              "    </tr>\n",
              "    <tr>\n",
              "      <th>1</th>\n",
              "      <td>Bridge 2</td>\n",
              "      <td>3</td>\n",
              "      <td>-38</td>\n",
              "      <td>-13</td>\n",
              "      <td>4</td>\n",
              "      <td>False</td>\n",
              "      <td>Mediam</td>\n",
              "      <td>NAN</td>\n",
              "    </tr>\n",
              "    <tr>\n",
              "      <th>2</th>\n",
              "      <td>Bridge 2</td>\n",
              "      <td>4</td>\n",
              "      <td>-18</td>\n",
              "      <td>6</td>\n",
              "      <td>-1</td>\n",
              "      <td>True</td>\n",
              "      <td>Normal</td>\n",
              "      <td>NAN</td>\n",
              "    </tr>\n",
              "    <tr>\n",
              "      <th>3</th>\n",
              "      <td>Bridge 2</td>\n",
              "      <td>5</td>\n",
              "      <td>-69</td>\n",
              "      <td>-12</td>\n",
              "      <td>8</td>\n",
              "      <td>False</td>\n",
              "      <td>High</td>\n",
              "      <td>NAN</td>\n",
              "    </tr>\n",
              "    <tr>\n",
              "      <th>4</th>\n",
              "      <td>Bridge 2</td>\n",
              "      <td>6</td>\n",
              "      <td>20</td>\n",
              "      <td>-33</td>\n",
              "      <td>-6</td>\n",
              "      <td>False</td>\n",
              "      <td>Mediam</td>\n",
              "      <td>NAN</td>\n",
              "    </tr>\n",
              "  </tbody>\n",
              "</table>\n",
              "</div>\n",
              "      <button class=\"colab-df-convert\" onclick=\"convertToInteractive('df-b76859de-0c2f-4cfb-b762-bb5107de7fc3')\"\n",
              "              title=\"Convert this dataframe to an interactive table.\"\n",
              "              style=\"display:none;\">\n",
              "        \n",
              "  <svg xmlns=\"http://www.w3.org/2000/svg\" height=\"24px\"viewBox=\"0 0 24 24\"\n",
              "       width=\"24px\">\n",
              "    <path d=\"M0 0h24v24H0V0z\" fill=\"none\"/>\n",
              "    <path d=\"M18.56 5.44l.94 2.06.94-2.06 2.06-.94-2.06-.94-.94-2.06-.94 2.06-2.06.94zm-11 1L8.5 8.5l.94-2.06 2.06-.94-2.06-.94L8.5 2.5l-.94 2.06-2.06.94zm10 10l.94 2.06.94-2.06 2.06-.94-2.06-.94-.94-2.06-.94 2.06-2.06.94z\"/><path d=\"M17.41 7.96l-1.37-1.37c-.4-.4-.92-.59-1.43-.59-.52 0-1.04.2-1.43.59L10.3 9.45l-7.72 7.72c-.78.78-.78 2.05 0 2.83L4 21.41c.39.39.9.59 1.41.59.51 0 1.02-.2 1.41-.59l7.78-7.78 2.81-2.81c.8-.78.8-2.07 0-2.86zM5.41 20L4 18.59l7.72-7.72 1.47 1.35L5.41 20z\"/>\n",
              "  </svg>\n",
              "      </button>\n",
              "      \n",
              "  <style>\n",
              "    .colab-df-container {\n",
              "      display:flex;\n",
              "      flex-wrap:wrap;\n",
              "      gap: 12px;\n",
              "    }\n",
              "\n",
              "    .colab-df-convert {\n",
              "      background-color: #E8F0FE;\n",
              "      border: none;\n",
              "      border-radius: 50%;\n",
              "      cursor: pointer;\n",
              "      display: none;\n",
              "      fill: #1967D2;\n",
              "      height: 32px;\n",
              "      padding: 0 0 0 0;\n",
              "      width: 32px;\n",
              "    }\n",
              "\n",
              "    .colab-df-convert:hover {\n",
              "      background-color: #E2EBFA;\n",
              "      box-shadow: 0px 1px 2px rgba(60, 64, 67, 0.3), 0px 1px 3px 1px rgba(60, 64, 67, 0.15);\n",
              "      fill: #174EA6;\n",
              "    }\n",
              "\n",
              "    [theme=dark] .colab-df-convert {\n",
              "      background-color: #3B4455;\n",
              "      fill: #D2E3FC;\n",
              "    }\n",
              "\n",
              "    [theme=dark] .colab-df-convert:hover {\n",
              "      background-color: #434B5C;\n",
              "      box-shadow: 0px 1px 3px 1px rgba(0, 0, 0, 0.15);\n",
              "      filter: drop-shadow(0px 1px 2px rgba(0, 0, 0, 0.3));\n",
              "      fill: #FFFFFF;\n",
              "    }\n",
              "  </style>\n",
              "\n",
              "      <script>\n",
              "        const buttonEl =\n",
              "          document.querySelector('#df-b76859de-0c2f-4cfb-b762-bb5107de7fc3 button.colab-df-convert');\n",
              "        buttonEl.style.display =\n",
              "          google.colab.kernel.accessAllowed ? 'block' : 'none';\n",
              "\n",
              "        async function convertToInteractive(key) {\n",
              "          const element = document.querySelector('#df-b76859de-0c2f-4cfb-b762-bb5107de7fc3');\n",
              "          const dataTable =\n",
              "            await google.colab.kernel.invokeFunction('convertToInteractive',\n",
              "                                                     [key], {});\n",
              "          if (!dataTable) return;\n",
              "\n",
              "          const docLinkHtml = 'Like what you see? Visit the ' +\n",
              "            '<a target=\"_blank\" href=https://colab.research.google.com/notebooks/data_table.ipynb>data table notebook</a>'\n",
              "            + ' to learn more about interactive tables.';\n",
              "          element.innerHTML = '';\n",
              "          dataTable['output_type'] = 'display_data';\n",
              "          await google.colab.output.renderOutput(dataTable, element);\n",
              "          const docLink = document.createElement('div');\n",
              "          docLink.innerHTML = docLinkHtml;\n",
              "          element.appendChild(docLink);\n",
              "        }\n",
              "      </script>\n",
              "    </div>\n",
              "  </div>\n",
              "  "
            ]
          },
          "metadata": {},
          "execution_count": 41
        }
      ]
    },
    {
      "cell_type": "code",
      "source": [
        "columns = df.columns\n",
        "columns"
      ],
      "metadata": {
        "colab": {
          "base_uri": "https://localhost:8080/"
        },
        "id": "yb3qCzaOXEhP",
        "outputId": "e0503f19-bf78-45ed-fce5-2b0bff3d80af"
      },
      "execution_count": 42,
      "outputs": [
        {
          "output_type": "execute_result",
          "data": {
            "text/plain": [
              "Index(['Type', 'File_Number', 'X-axis', 'Y-axis', 'Z-axis', 'In_Normal_Case',\n",
              "       'Error_range', 'Notes'],\n",
              "      dtype='object')"
            ]
          },
          "metadata": {},
          "execution_count": 42
        }
      ]
    },
    {
      "cell_type": "code",
      "source": [
        "all_types = list(df[\"Type\"].unique())\n",
        "all_types"
      ],
      "metadata": {
        "colab": {
          "base_uri": "https://localhost:8080/"
        },
        "id": "essyJFfQaPbG",
        "outputId": "dd05b85e-6b89-454e-c789-620b39ae1049"
      },
      "execution_count": 76,
      "outputs": [
        {
          "output_type": "execute_result",
          "data": {
            "text/plain": [
              "['Bridge 2',\n",
              " 'Bridge 3',\n",
              " 'Bridge 4',\n",
              " 'Bridge 5',\n",
              " 'Bridge 6',\n",
              " 'Bridge 7',\n",
              " 'Bridge 8',\n",
              " 'Bridge 9',\n",
              " 'Bridge 10',\n",
              " 'Bridge 11',\n",
              " 'Bridge 12',\n",
              " 'Bridge 13',\n",
              " 'Bridge 14',\n",
              " 'Clear Aligner',\n",
              " 'Crown Molar',\n",
              " 'Crown Tooth',\n",
              " 'Denture Base',\n",
              " 'Denture Base No Teeth',\n",
              " 'Dey Molar',\n",
              " 'Dey Tooth',\n",
              " 'Mockup',\n",
              " 'Mockup Front Lower teeth',\n",
              " 'Mockup Front Upper teeth',\n",
              " 'Mockup No teeth',\n",
              " 'Mockup Upper teeth',\n",
              " 'Model Base',\n",
              " 'Model side',\n",
              " 'Quadrant',\n",
              " 'Solid Molar',\n",
              " 'Solid Tooth',\n",
              " 'Surgical Guide Corner',\n",
              " 'Surgical Guide Mockup',\n",
              " 'Surgical Guide Mockup Front',\n",
              " 'Surgical Guide Side',\n",
              " 'Surgical Guide Upper Jaw',\n",
              " 'Temp Crown Molar',\n",
              " 'Temp Crown Tooth']"
            ]
          },
          "metadata": {},
          "execution_count": 76
        }
      ]
    },
    {
      "cell_type": "code",
      "source": [
        "w = list(all_types)\n",
        "w.append(\"all\")\n",
        "w"
      ],
      "metadata": {
        "colab": {
          "base_uri": "https://localhost:8080/"
        },
        "id": "7_unMvGVcCAr",
        "outputId": "ce1899a3-3844-420e-82a8-8c25acdffd98"
      },
      "execution_count": 58,
      "outputs": [
        {
          "output_type": "execute_result",
          "data": {
            "text/plain": [
              "['Bridge 2',\n",
              " 'Bridge 3',\n",
              " 'Bridge 4',\n",
              " 'Bridge 5',\n",
              " 'Bridge 6',\n",
              " 'Bridge 7',\n",
              " 'Bridge 8',\n",
              " 'Bridge 9',\n",
              " 'Bridge 10',\n",
              " 'Bridge 11',\n",
              " 'Bridge 12',\n",
              " 'Bridge 13',\n",
              " 'Bridge 14',\n",
              " 'Clear Aligner',\n",
              " 'Crown Molar',\n",
              " 'Crown Tooth',\n",
              " 'Denture Base',\n",
              " 'Denture Base No Teeth',\n",
              " 'Dey Molar',\n",
              " 'Dey Tooth',\n",
              " 'Mockup',\n",
              " 'Mockup Front Lower teeth',\n",
              " 'Mockup Front Upper teeth',\n",
              " 'Mockup No teeth',\n",
              " 'Mockup Upper teeth',\n",
              " 'Model Base',\n",
              " 'Model side',\n",
              " 'Quadrant',\n",
              " 'Solid Molar',\n",
              " 'Solid Tooth',\n",
              " 'Surgical Guide Corner',\n",
              " 'Surgical Guide Mockup',\n",
              " 'Surgical Guide Mockup Front',\n",
              " 'Surgical Guide Side',\n",
              " 'Surgical Guide Upper Jaw',\n",
              " 'Temp Crown Molar',\n",
              " 'Temp Crown Tooth',\n",
              " 'all']"
            ]
          },
          "metadata": {},
          "execution_count": 58
        }
      ]
    },
    {
      "cell_type": "code",
      "source": [
        "x = \"all in my place\"\n",
        "x.title()"
      ],
      "metadata": {
        "colab": {
          "base_uri": "https://localhost:8080/",
          "height": 36
        },
        "id": "o_QwPQwQcz67",
        "outputId": "2b9cb591-575a-4c90-da0c-5c9b0d06ee28"
      },
      "execution_count": 59,
      "outputs": [
        {
          "output_type": "execute_result",
          "data": {
            "text/plain": [
              "'All In My Place'"
            ],
            "application/vnd.google.colaboratory.intrinsic+json": {
              "type": "string"
            }
          },
          "metadata": {},
          "execution_count": 59
        }
      ]
    },
    {
      "cell_type": "markdown",
      "source": [
        "# The Prog"
      ],
      "metadata": {
        "id": "RwE2RO_TeIWa"
      }
    },
    {
      "cell_type": "code",
      "source": [
        "required = []\n",
        "all_types = list(df[\"Type\"].unique())\n",
        "\n",
        "print(\" *\"*75,\"\\nInsert the types you want to navigate through, press Enter after every input, and after you finish inserting press Enter without inserting any input.\\n\",end=\" *\"*75)\n",
        "print(\"\\n\\nwhat types do you want to navigate through? (you can insert 'All' if you wanted all types)\")\n",
        "while True:\n",
        "    type_ = input().title()\n",
        "    if not type_:\n",
        "        break\n",
        "    if type_ in all_types or type_ == \"All\":\n",
        "      required.append(type_)\n",
        "print(\"While loop has exited\")"
      ],
      "metadata": {
        "colab": {
          "base_uri": "https://localhost:8080/"
        },
        "id": "LH5hF-DkeC1r",
        "outputId": "12b1690d-817d-48c7-dcc9-7d7d9ea288ab"
      },
      "execution_count": 75,
      "outputs": [
        {
          "output_type": "stream",
          "name": "stdout",
          "text": [
            " * * * * * * * * * * * * * * * * * * * * * * * * * * * * * * * * * * * * * * * * * * * * * * * * * * * * * * * * * * * * * * * * * * * * * * * * * * * \n",
            "Insert the types you want to navigate through, press Enter after every input, and after you finish inserting press Enter without inserting any input.\n",
            " * * * * * * * * * * * * * * * * * * * * * * * * * * * * * * * * * * * * * * * * * * * * * * * * * * * * * * * * * * * * * * * * * * * * * * * * * * *\n",
            "\n",
            "what types do you want to navigate through?\n",
            "Solid Tooth\n",
            "Surgical Guide Side\n",
            "\n",
            "While loop has exited\n"
          ]
        }
      ]
    },
    {
      "cell_type": "code",
      "source": [
        "type_ = \"x\".title()\n",
        "if type_ not in all_types and type_ != \"All\" :  \n",
        "  print(\"ok\")"
      ],
      "metadata": {
        "colab": {
          "base_uri": "https://localhost:8080/"
        },
        "id": "3Va-25fTh9TX",
        "outputId": "09455e5e-f8a6-4731-fe2e-14e2ab4915df"
      },
      "execution_count": 83,
      "outputs": [
        {
          "output_type": "stream",
          "name": "stdout",
          "text": [
            "ok\n"
          ]
        }
      ]
    },
    {
      "cell_type": "code",
      "source": [
        "if type_ not in all_types and type_ != \"All\" :\n",
        "\n",
        "  print(\"\\n\",\"*\"*40,\"\\nPlease check your spelling and if the type you have chosen is valid. \\n\")\n",
        "  Error = True\n",
        "  while Error :\n",
        "      re_choose = input(\"Want to re-choose? Enter yes or no.\\n\").lower()  \n",
        "      if re_choose == 'no':# Exit the program ------------\n",
        "          city = \"exit\"\n",
        "          month = 0\n",
        "          day = 0\n",
        "          time_filter = 0\n",
        "          return city, month, day,time_filter             \n",
        "          whole_loop = False   \n",
        "          time_filter_loop = False\n",
        "          month_loop = False \n",
        "          main_loop = False\n",
        "          Error = False \n",
        "        \n",
        "      elif re_choose not in [\"yes\",\"no\"] : # only for stupids -----------\n",
        "          print(\"\\n\",\"*\"*40,\"\\n please insert a valid choice\")\n",
        "          Error = True   \n",
        "      elif re_choose == \"yes\" : # re_choose -----------\n",
        "          Error = False             "
      ],
      "metadata": {
        "id": "UbaPAe90jmhu"
      },
      "execution_count": null,
      "outputs": []
    }
  ]
}